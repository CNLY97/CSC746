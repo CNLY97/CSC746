{
  "nbformat": 4,
  "nbformat_minor": 0,
  "metadata": {
    "colab": {
      "name": "CSC746_final_project (1) (1).ipynb",
      "provenance": []
    },
    "kernelspec": {
      "name": "python3",
      "display_name": "Python 3"
    },
    "language_info": {
      "name": "python"
    },
    "accelerator": "GPU"
  },
  "cells": [
    {
      "cell_type": "markdown",
      "source": [
        "# **Import Data**"
      ],
      "metadata": {
        "id": "1pl5fncPJnkp"
      }
    },
    {
      "cell_type": "code",
      "source": [
        "import numpy as np\n",
        "tissuemnist = np.load('/content/drive/MyDrive/tissuemnist.npz')"
      ],
      "metadata": {
        "id": "7xNw34jgt1y5"
      },
      "execution_count": 57,
      "outputs": []
    },
    {
      "cell_type": "code",
      "source": [
        "tissuemnist.files"
      ],
      "metadata": {
        "colab": {
          "base_uri": "https://localhost:8080/"
        },
        "id": "uX-h1jrJwRpa",
        "outputId": "fdd344be-eaf6-44d6-a1ac-4faad21318b1"
      },
      "execution_count": 58,
      "outputs": [
        {
          "output_type": "execute_result",
          "data": {
            "text/plain": [
              "['train_images',\n",
              " 'train_labels',\n",
              " 'val_images',\n",
              " 'val_labels',\n",
              " 'test_images',\n",
              " 'test_labels']"
            ]
          },
          "metadata": {},
          "execution_count": 58
        }
      ]
    },
    {
      "cell_type": "code",
      "source": [
        "x_train = tissuemnist['train_images']\n",
        "x_val = tissuemnist['val_images']\n",
        "x_test = tissuemnist['test_images']\n",
        "y_train = tissuemnist['train_labels']\n",
        "y_val = tissuemnist['val_labels']\n",
        "y_test = tissuemnist['test_labels']"
      ],
      "metadata": {
        "id": "YR3oz5dSwYtS"
      },
      "execution_count": 59,
      "outputs": []
    },
    {
      "cell_type": "code",
      "source": [
        "x_train.shape\n"
      ],
      "metadata": {
        "colab": {
          "base_uri": "https://localhost:8080/"
        },
        "id": "zoIgz2LaxPd6",
        "outputId": "709e663f-3dd9-4f4b-da55-1146f9c4768f"
      },
      "execution_count": null,
      "outputs": [
        {
          "output_type": "execute_result",
          "data": {
            "text/plain": [
              "(165466, 28, 28)"
            ]
          },
          "metadata": {},
          "execution_count": 41
        }
      ]
    },
    {
      "cell_type": "code",
      "source": [
        "len(y_train)"
      ],
      "metadata": {
        "colab": {
          "base_uri": "https://localhost:8080/"
        },
        "id": "Uodjc-hrxq_q",
        "outputId": "343a0d5e-efc3-4bb2-87c5-5069401bab4e"
      },
      "execution_count": null,
      "outputs": [
        {
          "output_type": "execute_result",
          "data": {
            "text/plain": [
              "165466"
            ]
          },
          "metadata": {},
          "execution_count": 42
        }
      ]
    },
    {
      "cell_type": "code",
      "source": [
        "y_train"
      ],
      "metadata": {
        "colab": {
          "base_uri": "https://localhost:8080/"
        },
        "id": "yfofUVcGyYEy",
        "outputId": "2f591454-1380-4fe7-be2e-2077f24b1a48"
      },
      "execution_count": null,
      "outputs": [
        {
          "output_type": "execute_result",
          "data": {
            "text/plain": [
              "array([[0],\n",
              "       [0],\n",
              "       [6],\n",
              "       ...,\n",
              "       [2],\n",
              "       [1],\n",
              "       [6]], dtype=uint8)"
            ]
          },
          "metadata": {},
          "execution_count": 43
        }
      ]
    },
    {
      "cell_type": "code",
      "source": [
        "x_test.shape"
      ],
      "metadata": {
        "colab": {
          "base_uri": "https://localhost:8080/"
        },
        "id": "DkKtMkwhyawK",
        "outputId": "748366f2-fe3c-4793-eaad-b22168d8c578"
      },
      "execution_count": null,
      "outputs": [
        {
          "output_type": "execute_result",
          "data": {
            "text/plain": [
              "(47280, 28, 28)"
            ]
          },
          "metadata": {},
          "execution_count": 44
        }
      ]
    },
    {
      "cell_type": "code",
      "source": [
        "len(y_test)"
      ],
      "metadata": {
        "colab": {
          "base_uri": "https://localhost:8080/"
        },
        "id": "mo2H0UJZynmh",
        "outputId": "141ca6d7-425d-487e-c14d-d0206ca73bc0"
      },
      "execution_count": null,
      "outputs": [
        {
          "output_type": "execute_result",
          "data": {
            "text/plain": [
              "47280"
            ]
          },
          "metadata": {},
          "execution_count": 45
        }
      ]
    },
    {
      "cell_type": "code",
      "source": [
        "import matplotlib.pyplot as plt\n",
        "plt.figure()\n",
        "plt.imshow(x_train[1],  cmap='Greys')\n",
        "plt.grid(which='major')\n",
        "plt.show()"
      ],
      "metadata": {
        "colab": {
          "base_uri": "https://localhost:8080/",
          "height": 265
        },
        "id": "1SDdfYEkyqiK",
        "outputId": "172b9b49-166d-4a39-8c2a-a0c1a020f6da"
      },
      "execution_count": 4,
      "outputs": [
        {
          "output_type": "display_data",
          "data": {
            "text/plain": [
              "<Figure size 432x288 with 1 Axes>"
            ],
            "image/png": "[encoded data removed]"
          },
          "metadata": {
            "needs_background": "light"
          }
        }
      ]
    },
    {
      "cell_type": "code",
      "source": [
        "plt.figure(figsize=(5,5))\n",
        "for k in range(16):\n",
        " plt.subplot(4,4,k+1)\n",
        " plt.imshow(x_train[k], cmap='Greys')\n",
        " plt.axis('off')\n",
        "plt.tight_layout()\n",
        "plt.show()"
      ],
      "metadata": {
        "colab": {
          "base_uri": "https://localhost:8080/",
          "height": 369
        },
        "id": "CEt8gEbqIiKR",
        "outputId": "a40f3f35-6e09-4500-815c-08e292881660"
      },
      "execution_count": null,
      "outputs": [
        {
          "output_type": "display_data",
          "data": {
            "text/plain": [
              "<Figure size 360x360 with 16 Axes>"
            ],
            "image/png": "[encoded data removed]"
          },
          "metadata": {
            "needs_background": "light"
          }
        }
      ]
    },
    {
      "cell_type": "code",
      "source": [
        "y_train[0]"
      ],
      "metadata": {
        "colab": {
          "base_uri": "https://localhost:8080/"
        },
        "id": "KQBkiVply7B6",
        "outputId": "ecd7806e-4fac-41aa-a443-66dc4bb826d9"
      },
      "execution_count": null,
      "outputs": [
        {
          "output_type": "execute_result",
          "data": {
            "text/plain": [
              "array([0], dtype=uint8)"
            ]
          },
          "metadata": {},
          "execution_count": 48
        }
      ]
    },
    {
      "cell_type": "markdown",
      "source": [
        "Reshape"
      ],
      "metadata": {
        "id": "ze187hj5zC1i"
      }
    },
    {
      "cell_type": "code",
      "source": [
        "nsamples, nx, ny = x_train.shape\n",
        "x_train = x_train.reshape((nsamples, nx*ny))\n",
        "nsamples, nx, ny = x_val.shape\n",
        "x_val = x_val.reshape((nsamples ,nx*ny))\n",
        "nsamples, nx, ny = x_test.shape\n",
        "x_test = x_test.reshape((nsamples, nx*ny))"
      ],
      "metadata": {
        "id": "a2glMq3zzEcy"
      },
      "execution_count": 60,
      "outputs": []
    },
    {
      "cell_type": "code",
      "source": [
        "x_train.shape"
      ],
      "metadata": {
        "colab": {
          "base_uri": "https://localhost:8080/"
        },
        "id": "AxhkTC6kPVB5",
        "outputId": "0ec80d45-1ed7-4bdb-9266-eb1fed88ae0b"
      },
      "execution_count": null,
      "outputs": [
        {
          "output_type": "execute_result",
          "data": {
            "text/plain": [
              "(165466, 784)"
            ]
          },
          "metadata": {},
          "execution_count": 128
        }
      ]
    },
    {
      "cell_type": "code",
      "source": [
        "x_test.shape"
      ],
      "metadata": {
        "colab": {
          "base_uri": "https://localhost:8080/"
        },
        "id": "JA86y6LN5yCs",
        "outputId": "8096c4c4-a316-4b1f-839e-7a9bece1f2ba"
      },
      "execution_count": null,
      "outputs": [
        {
          "output_type": "execute_result",
          "data": {
            "text/plain": [
              "(47280, 784)"
            ]
          },
          "metadata": {},
          "execution_count": 129
        }
      ]
    },
    {
      "cell_type": "markdown",
      "source": [
        "Normalization"
      ],
      "metadata": {
        "id": "3M_RGiPI4HK1"
      }
    },
    {
      "cell_type": "code",
      "source": [
        "from sklearn.preprocessing import MinMaxScaler\n",
        "scaler=MinMaxScaler()\n",
        "scaler.fit(x_train)\n",
        "x_train = scaler.transform(x_train)\n",
        "x_val = scaler.transform(x_val)\n",
        "x_test = scaler.transform(x_test)"
      ],
      "metadata": {
        "id": "bDLrjVHn4Gqe"
      },
      "execution_count": 61,
      "outputs": []
    },
    {
      "cell_type": "code",
      "source": [
        "x_train.shape"
      ],
      "metadata": {
        "colab": {
          "base_uri": "https://localhost:8080/"
        },
        "id": "coW03kBfNKBH",
        "outputId": "db64b0f8-1a39-410c-ce29-ab6af405ab79"
      },
      "execution_count": null,
      "outputs": [
        {
          "output_type": "execute_result",
          "data": {
            "text/plain": [
              "(165466, 784)"
            ]
          },
          "metadata": {},
          "execution_count": 21
        }
      ]
    },
    {
      "cell_type": "markdown",
      "source": [
        "# **CNN**"
      ],
      "metadata": {
        "id": "1ADWvtlVHv2s"
      }
    },
    {
      "cell_type": "code",
      "source": [
        "import tensorflow.keras as keras\n",
        "from tensorflow.keras.models import Sequential\n",
        "import tensorflow.keras.layers as layers\n",
        "from tensorflow.keras.layers import Dense, Dropout, Flatten, Conv2D, MaxPooling2D\n",
        "from tensorflow.keras.optimizers import SGD\n",
        "import tensorflow as tf"
      ],
      "metadata": {
        "id": "aTcl95Z64XHN"
      },
      "execution_count": 62,
      "outputs": []
    },
    {
      "cell_type": "code",
      "source": [
        "n_classes = 8\n",
        "y_train = keras.utils.to_categorical(y_train,n_classes)\n",
        "y_val = keras.utils.to_categorical(y_val,n_classes)\n",
        "y_test = keras.utils.to_categorical(y_test,n_classes)\n",
        "print(y_train[0])"
      ],
      "metadata": {
        "colab": {
          "base_uri": "https://localhost:8080/"
        },
        "id": "vJbNFr4bKX50",
        "outputId": "83598012-91c0-4013-c67e-0419aa1f9df8"
      },
      "execution_count": 63,
      "outputs": [
        {
          "output_type": "stream",
          "name": "stdout",
          "text": [
            "[1. 0. 0. 0. 0. 0. 0. 0.]\n"
          ]
        }
      ]
    },
    {
      "cell_type": "code",
      "source": [
        "twoLayerDensemodel = Sequential()\n",
        "#====================== hidden layer one\n",
        "twoLayerDensemodel.add(Dense(64, activation = 'relu',input_shape =(784,)))\n",
        "#====================== hidden layer two\n",
        "twoLayerDensemodel.add(Dense(64, activation = 'relu'))\n",
        "##================================ Output layer\n",
        "twoLayerDensemodel.add(Dense(8, activation = 'softmax'))\n",
        "#### =======================================\n",
        "### let us see a summary of network\n",
        "twoLayerDensemodel.summary()"
      ],
      "metadata": {
        "colab": {
          "base_uri": "https://localhost:8080/"
        },
        "id": "vUB7r6rpORfN",
        "outputId": "068b184a-723f-48dd-d872-7c6c6bc2512b"
      },
      "execution_count": null,
      "outputs": [
        {
          "output_type": "stream",
          "name": "stdout",
          "text": [
            "Model: \"sequential\"\n",
            "_________________________________________________________________\n",
            " Layer (type)                Output Shape              Param #   \n",
            "=================================================================\n",
            " dense (Dense)               (None, 64)                50240     \n",
            "                                                                 \n",
            " dense_1 (Dense)             (None, 64)                4160      \n",
            "                                                                 \n",
            " dense_2 (Dense)             (None, 8)                 520       \n",
            "                                                                 \n",
            "=================================================================\n",
            "Total params: 54,920\n",
            "Trainable params: 54,920\n",
            "Non-trainable params: 0\n",
            "_________________________________________________________________\n"
          ]
        }
      ]
    },
    {
      "cell_type": "code",
      "source": [
        "twoLayerDensemodel.compile(loss='categorical_crossentropy',\n",
        "              optimizer='adam',\n",
        "              metrics=['accuracy'])"
      ],
      "metadata": {
        "id": "RDqHAFqQyq-i"
      },
      "execution_count": null,
      "outputs": []
    },
    {
      "cell_type": "code",
      "source": [
        "twoLayerDensemodel.fit(x_train, y_train, batch_size = 128, epochs = 25,\n",
        " verbose =1, validation_data=(x_val, y_val))"
      ],
      "metadata": {
        "id": "D_CxHYS8xoJS"
      },
      "execution_count": null,
      "outputs": []
    },
    {
      "cell_type": "code",
      "source": [
        "twoLayerDensemodel.evaluate(x_test, y_test)"
      ],
      "metadata": {
        "id": "fHTJ57fB4c3d"
      },
      "execution_count": null,
      "outputs": []
    },
    {
      "cell_type": "markdown",
      "source": [
        "# **Reshape**"
      ],
      "metadata": {
        "id": "s9QSP_M8xoIe"
      }
    },
    {
      "cell_type": "code",
      "source": [
        "x_train.shape[0]"
      ],
      "metadata": {
        "colab": {
          "base_uri": "https://localhost:8080/"
        },
        "id": "CLz8tBKwzkZG",
        "outputId": "fda8e040-05cd-4a54-9382-64ef3f5c502c"
      },
      "execution_count": 64,
      "outputs": [
        {
          "output_type": "execute_result",
          "data": {
            "text/plain": [
              "165466"
            ]
          },
          "metadata": {},
          "execution_count": 64
        }
      ]
    },
    {
      "cell_type": "code",
      "source": [
        "y_train[0]"
      ],
      "metadata": {
        "colab": {
          "base_uri": "https://localhost:8080/"
        },
        "id": "7wBduhEg3hiY",
        "outputId": "ccdff676-b0d0-4feb-db9a-cff81e15fdf8"
      },
      "execution_count": 65,
      "outputs": [
        {
          "output_type": "execute_result",
          "data": {
            "text/plain": [
              "array([1., 0., 0., 0., 0., 0., 0., 0.], dtype=float32)"
            ]
          },
          "metadata": {},
          "execution_count": 65
        }
      ]
    },
    {
      "cell_type": "code",
      "source": [
        "x_train = x_train.reshape(x_train.shape[0],28,28)\n",
        "x_val = x_val.reshape(x_val.shape[0],28,28)\n",
        "x_test = x_test.reshape(x_test.shape[0],28,28)"
      ],
      "metadata": {
        "id": "kbpU6tKFxqIU"
      },
      "execution_count": 66,
      "outputs": []
    },
    {
      "cell_type": "markdown",
      "source": [
        "# **AlexNet**"
      ],
      "metadata": {
        "id": "u7pupE25L0BZ"
      }
    },
    {
      "cell_type": "code",
      "source": [
        "alexnet = Sequential()\n",
        "\n",
        "# Layer 1\n",
        "alexnet.add(Conv2D(32,\n",
        "          kernel_size=(5, 5),\n",
        "          padding='same', \n",
        "          input_shape = (28,28,1), \n",
        "          activation='relu',\n",
        "          strides=2))\n",
        "alexnet.add(MaxPooling2D(pool_size=(3, 3), \n",
        "             strides=2))\n",
        "\n",
        "# Layer 2\n",
        "alexnet.add(Conv2D(64,\n",
        "          kernel_size=(5, 5),\n",
        "          padding='same',\n",
        "          activation='relu',\n",
        "          strides=1))\n",
        "alexnet.add(MaxPooling2D(pool_size=(2, 2),\n",
        "             strides=1))\n",
        "# Layer 3\n",
        "alexnet.add(Conv2D(128,\n",
        "          kernel_size=(3, 3),\n",
        "          padding='same', \n",
        "          activation='relu',\n",
        "          strides=1))\n",
        "alexnet.add(Conv2D(128,\n",
        "          kernel_size=(3, 3),\n",
        "          padding='same', \n",
        "          activation='relu',\n",
        "          strides=1))\n",
        "alexnet.add(Conv2D(128,\n",
        "          kernel_size=(3, 3),\n",
        "          padding='same', \n",
        "          activation='relu',\n",
        "          strides=1))\n",
        "alexnet.add(MaxPooling2D(pool_size=(2, 2), \n",
        "             strides=1))\n",
        "\n",
        "# Layer 4\n",
        "alexnet.add(Flatten())\n",
        "alexnet.add(Dense(512, activation='relu'))\n",
        "alexnet.add(Dropout(0.5))\n",
        "\n",
        "# Layer 5\n",
        "alexnet.add(Dense(8, activation='softmax'))"
      ],
      "metadata": {
        "id": "JIW5SaSsRt2a"
      },
      "execution_count": 44,
      "outputs": []
    },
    {
      "cell_type": "code",
      "source": [
        "alexnet.summary()"
      ],
      "metadata": {
        "colab": {
          "base_uri": "https://localhost:8080/"
        },
        "id": "ADTK3Dwjmv3j",
        "outputId": "a3061ff6-0701-47b0-b503-e52241aa3e73"
      },
      "execution_count": 45,
      "outputs": [
        {
          "output_type": "stream",
          "name": "stdout",
          "text": [
            "Model: \"sequential_8\"\n",
            "_________________________________________________________________\n",
            " Layer (type)                Output Shape              Param #   \n",
            "=================================================================\n",
            " conv2d_35 (Conv2D)          (None, 14, 14, 32)        832       \n",
            "                                                                 \n",
            " max_pooling2d_24 (MaxPoolin  (None, 6, 6, 32)         0         \n",
            " g2D)                                                            \n",
            "                                                                 \n",
            " conv2d_36 (Conv2D)          (None, 6, 6, 64)          51264     \n",
            "                                                                 \n",
            " max_pooling2d_25 (MaxPoolin  (None, 5, 5, 64)         0         \n",
            " g2D)                                                            \n",
            "                                                                 \n",
            " conv2d_37 (Conv2D)          (None, 5, 5, 128)         73856     \n",
            "                                                                 \n",
            " conv2d_38 (Conv2D)          (None, 5, 5, 128)         147584    \n",
            "                                                                 \n",
            " conv2d_39 (Conv2D)          (None, 5, 5, 128)         147584    \n",
            "                                                                 \n",
            " max_pooling2d_26 (MaxPoolin  (None, 4, 4, 128)        0         \n",
            " g2D)                                                            \n",
            "                                                                 \n",
            " flatten_8 (Flatten)         (None, 2048)              0         \n",
            "                                                                 \n",
            " dense_16 (Dense)            (None, 512)               1049088   \n",
            "                                                                 \n",
            " dropout_8 (Dropout)         (None, 512)               0         \n",
            "                                                                 \n",
            " dense_17 (Dense)            (None, 8)                 4104      \n",
            "                                                                 \n",
            "=================================================================\n",
            "Total params: 1,474,312\n",
            "Trainable params: 1,474,312\n",
            "Non-trainable params: 0\n",
            "_________________________________________________________________\n"
          ]
        }
      ]
    },
    {
      "cell_type": "code",
      "source": [
        "alexnet.compile(optimizer='adam',\n",
        "              loss='categorical_crossentropy',\n",
        "              metrics=['accuracy'])"
      ],
      "metadata": {
        "id": "k60tPMZ_zLyU"
      },
      "execution_count": 46,
      "outputs": []
    },
    {
      "cell_type": "code",
      "source": [
        "alexnet.fit(x_train, y_train, batch_size = 128, epochs = 25, verbose =1, validation_data=(x_val, y_val))"
      ],
      "metadata": {
        "id": "he_BJOt5zN6t",
        "colab": {
          "base_uri": "https://localhost:8080/"
        },
        "outputId": "3ee0aff1-c4b5-4dd1-8e44-923ca91e0912"
      },
      "execution_count": 47,
      "outputs": [
        {
          "output_type": "stream",
          "name": "stdout",
          "text": [
            "Epoch 1/25\n",
            "1293/1293 [==============================] - 12s 8ms/step - loss: 1.2995 - accuracy: 0.5143 - val_loss: 1.1791 - val_accuracy: 0.5591\n",
            "Epoch 2/25\n",
            "1293/1293 [==============================] - 10s 8ms/step - loss: 1.1690 - accuracy: 0.5705 - val_loss: 1.1830 - val_accuracy: 0.5718\n",
            "Epoch 3/25\n",
            "1293/1293 [==============================] - 10s 8ms/step - loss: 1.1133 - accuracy: 0.5925 - val_loss: 1.0874 - val_accuracy: 0.5976\n",
            "Epoch 4/25\n",
            "1293/1293 [==============================] - 10s 8ms/step - loss: 1.0770 - accuracy: 0.6076 - val_loss: 1.0540 - val_accuracy: 0.6164\n",
            "Epoch 5/25\n",
            "1293/1293 [==============================] - 10s 8ms/step - loss: 1.0463 - accuracy: 0.6175 - val_loss: 1.0484 - val_accuracy: 0.6151\n",
            "Epoch 6/25\n",
            "1293/1293 [==============================] - 10s 8ms/step - loss: 1.0226 - accuracy: 0.6268 - val_loss: 1.0466 - val_accuracy: 0.6173\n",
            "Epoch 7/25\n",
            "1293/1293 [==============================] - 10s 8ms/step - loss: 0.9974 - accuracy: 0.6361 - val_loss: 1.0511 - val_accuracy: 0.6194\n",
            "Epoch 8/25\n",
            "1293/1293 [==============================] - 10s 8ms/step - loss: 0.9751 - accuracy: 0.6423 - val_loss: 1.0429 - val_accuracy: 0.6228\n",
            "Epoch 9/25\n",
            "1293/1293 [==============================] - 10s 8ms/step - loss: 0.9550 - accuracy: 0.6488 - val_loss: 1.0597 - val_accuracy: 0.6176\n",
            "Epoch 10/25\n",
            "1293/1293 [==============================] - 10s 8ms/step - loss: 0.9343 - accuracy: 0.6565 - val_loss: 1.0368 - val_accuracy: 0.6228\n",
            "Epoch 11/25\n",
            "1293/1293 [==============================] - 10s 8ms/step - loss: 0.9139 - accuracy: 0.6632 - val_loss: 1.0414 - val_accuracy: 0.6257\n",
            "Epoch 12/25\n",
            "1293/1293 [==============================] - 10s 8ms/step - loss: 0.8928 - accuracy: 0.6704 - val_loss: 1.0789 - val_accuracy: 0.6213\n",
            "Epoch 13/25\n",
            "1293/1293 [==============================] - 10s 8ms/step - loss: 0.8732 - accuracy: 0.6760 - val_loss: 1.0740 - val_accuracy: 0.6247\n",
            "Epoch 14/25\n",
            "1293/1293 [==============================] - 10s 8ms/step - loss: 0.8491 - accuracy: 0.6847 - val_loss: 1.0790 - val_accuracy: 0.6258\n",
            "Epoch 15/25\n",
            "1293/1293 [==============================] - 10s 8ms/step - loss: 0.8285 - accuracy: 0.6908 - val_loss: 1.1006 - val_accuracy: 0.6207\n",
            "Epoch 16/25\n",
            "1293/1293 [==============================] - 10s 8ms/step - loss: 0.8059 - accuracy: 0.6983 - val_loss: 1.1168 - val_accuracy: 0.6219\n",
            "Epoch 17/25\n",
            "1293/1293 [==============================] - 10s 8ms/step - loss: 0.7839 - accuracy: 0.7068 - val_loss: 1.1338 - val_accuracy: 0.6165\n",
            "Epoch 18/25\n",
            "1293/1293 [==============================] - 10s 8ms/step - loss: 0.7618 - accuracy: 0.7144 - val_loss: 1.1731 - val_accuracy: 0.6072\n",
            "Epoch 19/25\n",
            "1293/1293 [==============================] - 10s 8ms/step - loss: 0.7383 - accuracy: 0.7212 - val_loss: 1.2081 - val_accuracy: 0.6121\n",
            "Epoch 20/25\n",
            "1293/1293 [==============================] - 10s 8ms/step - loss: 0.7141 - accuracy: 0.7291 - val_loss: 1.2172 - val_accuracy: 0.6063\n",
            "Epoch 21/25\n",
            "1293/1293 [==============================] - 10s 8ms/step - loss: 0.6966 - accuracy: 0.7366 - val_loss: 1.2587 - val_accuracy: 0.6118\n",
            "Epoch 22/25\n",
            "1293/1293 [==============================] - 10s 8ms/step - loss: 0.6769 - accuracy: 0.7427 - val_loss: 1.2844 - val_accuracy: 0.5945\n",
            "Epoch 23/25\n",
            "1293/1293 [==============================] - 10s 8ms/step - loss: 0.6518 - accuracy: 0.7506 - val_loss: 1.3389 - val_accuracy: 0.6058\n",
            "Epoch 24/25\n",
            "1293/1293 [==============================] - 10s 8ms/step - loss: 0.6319 - accuracy: 0.7592 - val_loss: 1.4013 - val_accuracy: 0.6033\n",
            "Epoch 25/25\n",
            "1293/1293 [==============================] - 10s 8ms/step - loss: 0.6142 - accuracy: 0.7652 - val_loss: 1.4468 - val_accuracy: 0.5989\n"
          ]
        },
        {
          "output_type": "execute_result",
          "data": {
            "text/plain": [
              "<keras.callbacks.History at 0x7f1f23bf3790>"
            ]
          },
          "metadata": {},
          "execution_count": 47
        }
      ]
    },
    {
      "cell_type": "code",
      "source": [
        "import keras\n",
        "print(alexnet.history.history.keys())"
      ],
      "metadata": {
        "colab": {
          "base_uri": "https://localhost:8080/"
        },
        "id": "IqlT7SxgO8fr",
        "outputId": "9979e3bf-b430-43d6-9ae1-ebc01debc837"
      },
      "execution_count": 48,
      "outputs": [
        {
          "output_type": "stream",
          "name": "stdout",
          "text": [
            "dict_keys(['loss', 'accuracy', 'val_loss', 'val_accuracy'])\n"
          ]
        }
      ]
    },
    {
      "cell_type": "code",
      "source": [
        "# model accuracy\n",
        "plt.plot(alexnet.history.history['accuracy'])\n",
        "plt.plot(alexnet.history.history['val_accuracy'])\n",
        "plt.title('model accuracy')\n",
        "plt.ylabel('accuracy')\n",
        "plt.xlabel('epoch')\n",
        "plt.legend(['train', 'val'],loc = 'upper left')\n",
        "plt.show()"
      ],
      "metadata": {
        "colab": {
          "base_uri": "https://localhost:8080/",
          "height": 295
        },
        "id": "-uebGHccN8hy",
        "outputId": "2c4d201e-ec1f-4211-cb33-8cb9f476f3d1"
      },
      "execution_count": 49,
      "outputs": [
        {
          "output_type": "display_data",
          "data": {
            "text/plain": [
              "<Figure size 432x288 with 1 Axes>"
            ],
            "image/png": "[encoded data removed]"
          },
          "metadata": {
            "needs_background": "light"
          }
        }
      ]
    },
    {
      "cell_type": "code",
      "source": [
        "# model loss\n",
        "plt.plot(alexnet.history.history['loss'])\n",
        "plt.plot(alexnet.history.history['val_loss'])\n",
        "plt.title('model loss')\n",
        "plt.ylabel('loss')\n",
        "plt.xlabel('epoch')\n",
        "plt.legend(['train', 'val'],loc = 'upper left')\n",
        "plt.show()"
      ],
      "metadata": {
        "id": "zMimsvAjRkSQ",
        "colab": {
          "base_uri": "https://localhost:8080/",
          "height": 295
        },
        "outputId": "2f7fb840-e60b-4fb8-f1b9-08964be23428"
      },
      "execution_count": 50,
      "outputs": [
        {
          "output_type": "display_data",
          "data": {
            "text/plain": [
              "<Figure size 432x288 with 1 Axes>"
            ],
            "image/png": "[encoded data removed]"
          },
          "metadata": {
            "needs_background": "light"
          }
        }
      ]
    },
    {
      "cell_type": "code",
      "source": [
        "alexnet.evaluate(x_test, y_test)"
      ],
      "metadata": {
        "colab": {
          "base_uri": "https://localhost:8080/"
        },
        "id": "Dhedm2Q6J38W",
        "outputId": "d388e09b-3212-423a-875d-d871eec97747"
      },
      "execution_count": 51,
      "outputs": [
        {
          "output_type": "stream",
          "name": "stdout",
          "text": [
            "1478/1478 [==============================] - 5s 3ms/step - loss: 1.4432 - accuracy: 0.5991\n"
          ]
        },
        {
          "output_type": "execute_result",
          "data": {
            "text/plain": [
              "[1.443199634552002, 0.5990905165672302]"
            ]
          },
          "metadata": {},
          "execution_count": 51
        }
      ]
    },
    {
      "cell_type": "markdown",
      "source": [
        "# **VGGNet**"
      ],
      "metadata": {
        "id": "AJuJZUBtKuPW"
      }
    },
    {
      "cell_type": "code",
      "source": [
        "VGGNet = Sequential()\n",
        "# 1\n",
        "VGGNet.add(Conv2D(filters=64,\n",
        "         kernel_size=(7, 7),\n",
        "         strides=1,\n",
        "         padding='same',\n",
        "         activation='relu',\n",
        "         input_shape=(28,28,1)))\n",
        "VGGNet.add(Conv2D(filters=64,\n",
        "         kernel_size=(3, 3),\n",
        "         strides=1,\n",
        "         padding='same',\n",
        "         activation='relu'))\n",
        "VGGNet.add(MaxPooling2D(pool_size=(2, 2),\n",
        "          strides=2,\n",
        "          padding='same'))\n",
        "\n",
        "# 2\n",
        "VGGNet.add(Conv2D(filters=128,\n",
        "         kernel_size=(3, 3),\n",
        "         strides=1,\n",
        "         padding='same',\n",
        "         activation='relu'))\n",
        "VGGNet.add(Conv2D(filters=128,\n",
        "         kernel_size=(3, 3),\n",
        "         strides=1,\n",
        "         padding='same',\n",
        "         activation='relu'))\n",
        "VGGNet.add(MaxPooling2D(pool_size=(2, 2),\n",
        "            strides=2,\n",
        "            padding='same'))\n",
        "\n",
        "# 3\n",
        "VGGNet.add(Conv2D(filters=256,\n",
        "         kernel_size=(3, 3),\n",
        "         strides=1,\n",
        "         padding='same',\n",
        "         activation='relu'))\n",
        "VGGNet.add(Conv2D(filters=256,\n",
        "         kernel_size=(3, 3),\n",
        "         strides=1,\n",
        "         padding='same',\n",
        "         activation='relu'))\n",
        "VGGNet.add(Conv2D(filters=256,\n",
        "         kernel_size=(3, 3),\n",
        "         strides=1,\n",
        "         padding='same',\n",
        "         activation='relu'))\n",
        "VGGNet.add(Conv2D(filters=256,\n",
        "         kernel_size=(3, 3),\n",
        "         strides=1,\n",
        "         padding='same',\n",
        "         activation='relu'))\n",
        "VGGNet.add(MaxPooling2D(pool_size=(2, 2),\n",
        "            strides=2,\n",
        "            padding='same'))\n",
        "\n",
        "# 4\n",
        "VGGNet.add(Conv2D(filters=512,\n",
        "         kernel_size=(3, 3),\n",
        "         strides=1,\n",
        "         padding='same',\n",
        "         activation='relu'))\n",
        "VGGNet.add(Conv2D(filters=512,\n",
        "         kernel_size=(3, 3),\n",
        "         strides=1,\n",
        "         padding='same',\n",
        "         activation='relu'))\n",
        "VGGNet.add(Conv2D(filters=512,\n",
        "         kernel_size=(3, 3),\n",
        "         strides=1,\n",
        "         padding='same',\n",
        "         activation='relu'))\n",
        "VGGNet.add(Conv2D(filters=512,\n",
        "         kernel_size=(3, 3),\n",
        "         strides=1,\n",
        "         padding='same',\n",
        "         activation='relu'))\n",
        "VGGNet.add(MaxPooling2D(pool_size=(2, 2),\n",
        "            strides=2,\n",
        "            padding='same'))\n",
        "\n",
        "# 5\n",
        "VGGNet.add(Conv2D(filters=512,\n",
        "         kernel_size=(3, 3),\n",
        "         strides=1,\n",
        "         padding='same',\n",
        "         activation='relu'))\n",
        "VGGNet.add(Conv2D(filters=512,\n",
        "         kernel_size=(3, 3),\n",
        "         strides=1,\n",
        "         padding='same',\n",
        "         activation='relu'))\n",
        "VGGNet.add(Conv2D(filters=512,\n",
        "         kernel_size=(3, 3),\n",
        "         strides=1,\n",
        "         padding='same',\n",
        "         activation='relu'))\n",
        "VGGNet.add(Conv2D(filters=512,\n",
        "         kernel_size=(3, 3),\n",
        "         strides=1,\n",
        "         padding='same',\n",
        "         activation='relu'))\n",
        "VGGNet.add(MaxPooling2D(pool_size=(2, 2),\n",
        "            strides=2,\n",
        "            padding='same'))\n",
        "\n",
        "VGGNet.add(Flatten())\n",
        "VGGNet.add(Dense(units=4096, activation='relu'))\n",
        "VGGNet.add(Dense(units=4096, activation='relu'))\n",
        "VGGNet.add(Dense(units=8, activation='softmax'))"
      ],
      "metadata": {
        "id": "JFTHL1Y9OBVS"
      },
      "execution_count": 77,
      "outputs": []
    },
    {
      "cell_type": "code",
      "source": [
        "VGGNet.summary()"
      ],
      "metadata": {
        "id": "2sofEYK1OcFY",
        "colab": {
          "base_uri": "https://localhost:8080/"
        },
        "outputId": "55a94213-73cc-4187-f3ca-ef2b00bde8d6"
      },
      "execution_count": 78,
      "outputs": [
        {
          "output_type": "stream",
          "name": "stdout",
          "text": [
            "Model: \"sequential_9\"\n",
            "_________________________________________________________________\n",
            " Layer (type)                Output Shape              Param #   \n",
            "=================================================================\n",
            " conv2d_158 (Conv2D)         (None, 28, 28, 64)        3200      \n",
            "                                                                 \n",
            " conv2d_159 (Conv2D)         (None, 28, 28, 64)        36928     \n",
            "                                                                 \n",
            " max_pooling2d_53 (MaxPoolin  (None, 14, 14, 64)       0         \n",
            " g2D)                                                            \n",
            "                                                                 \n",
            " conv2d_160 (Conv2D)         (None, 14, 14, 128)       73856     \n",
            "                                                                 \n",
            " conv2d_161 (Conv2D)         (None, 14, 14, 128)       147584    \n",
            "                                                                 \n",
            " max_pooling2d_54 (MaxPoolin  (None, 7, 7, 128)        0         \n",
            " g2D)                                                            \n",
            "                                                                 \n",
            " conv2d_162 (Conv2D)         (None, 7, 7, 256)         295168    \n",
            "                                                                 \n",
            " conv2d_163 (Conv2D)         (None, 7, 7, 256)         590080    \n",
            "                                                                 \n",
            " conv2d_164 (Conv2D)         (None, 7, 7, 256)         590080    \n",
            "                                                                 \n",
            " conv2d_165 (Conv2D)         (None, 7, 7, 256)         590080    \n",
            "                                                                 \n",
            " max_pooling2d_55 (MaxPoolin  (None, 4, 4, 256)        0         \n",
            " g2D)                                                            \n",
            "                                                                 \n",
            " conv2d_166 (Conv2D)         (None, 4, 4, 512)         1180160   \n",
            "                                                                 \n",
            " conv2d_167 (Conv2D)         (None, 4, 4, 512)         2359808   \n",
            "                                                                 \n",
            " conv2d_168 (Conv2D)         (None, 4, 4, 512)         2359808   \n",
            "                                                                 \n",
            " conv2d_169 (Conv2D)         (None, 4, 4, 512)         2359808   \n",
            "                                                                 \n",
            " max_pooling2d_56 (MaxPoolin  (None, 2, 2, 512)        0         \n",
            " g2D)                                                            \n",
            "                                                                 \n",
            " conv2d_170 (Conv2D)         (None, 2, 2, 512)         2359808   \n",
            "                                                                 \n",
            " conv2d_171 (Conv2D)         (None, 2, 2, 512)         2359808   \n",
            "                                                                 \n",
            " conv2d_172 (Conv2D)         (None, 2, 2, 512)         2359808   \n",
            "                                                                 \n",
            " conv2d_173 (Conv2D)         (None, 2, 2, 512)         2359808   \n",
            "                                                                 \n",
            " max_pooling2d_57 (MaxPoolin  (None, 1, 1, 512)        0         \n",
            " g2D)                                                            \n",
            "                                                                 \n",
            " flatten_15 (Flatten)        (None, 512)               0         \n",
            "                                                                 \n",
            " dense_24 (Dense)            (None, 4096)              2101248   \n",
            "                                                                 \n",
            " dense_25 (Dense)            (None, 4096)              16781312  \n",
            "                                                                 \n",
            " dense_26 (Dense)            (None, 8)                 32776     \n",
            "                                                                 \n",
            "=================================================================\n",
            "Total params: 38,941,128\n",
            "Trainable params: 38,941,128\n",
            "Non-trainable params: 0\n",
            "_________________________________________________________________\n"
          ]
        }
      ]
    },
    {
      "cell_type": "code",
      "source": [
        "VGGNet.compile(loss='categorical_crossentropy',\n",
        "       optimizer='Adam',\n",
        "       metrics=['accuracy'])"
      ],
      "metadata": {
        "id": "HpghipHJTYVa"
      },
      "execution_count": 79,
      "outputs": []
    },
    {
      "cell_type": "code",
      "source": [
        "VGGNet.fit(x_train, y_train, batch_size = 128, epochs = 25, verbose =1, validation_data=(x_val, y_val))"
      ],
      "metadata": {
        "id": "ZW4DTURPUW3k",
        "colab": {
          "base_uri": "https://localhost:8080/"
        },
        "outputId": "17138c19-5fe9-4fce-a183-12681b5022ea"
      },
      "execution_count": 80,
      "outputs": [
        {
          "output_type": "stream",
          "name": "stdout",
          "text": [
            "Epoch 1/25\n",
            "1293/1293 [==============================] - 100s 75ms/step - loss: 1.8485 - accuracy: 0.3192 - val_loss: 1.8052 - val_accuracy: 0.3207\n",
            "Epoch 2/25\n",
            "1293/1293 [==============================] - 98s 75ms/step - loss: 1.8057 - accuracy: 0.3208 - val_loss: 1.8090 - val_accuracy: 0.3207\n",
            "Epoch 3/25\n",
            "1293/1293 [==============================] - 99s 76ms/step - loss: 1.8053 - accuracy: 0.3208 - val_loss: 1.8052 - val_accuracy: 0.3207\n",
            "Epoch 4/25\n",
            "1293/1293 [==============================] - 100s 77ms/step - loss: 1.8053 - accuracy: 0.3208 - val_loss: 1.8051 - val_accuracy: 0.3207\n",
            "Epoch 5/25\n",
            "1293/1293 [==============================] - 100s 77ms/step - loss: 1.8053 - accuracy: 0.3208 - val_loss: 1.8055 - val_accuracy: 0.3207\n",
            "Epoch 6/25\n",
            "1293/1293 [==============================] - 100s 77ms/step - loss: 1.8052 - accuracy: 0.3208 - val_loss: 1.8048 - val_accuracy: 0.3207\n",
            "Epoch 7/25\n",
            "1293/1293 [==============================] - 99s 76ms/step - loss: 1.8049 - accuracy: 0.3208 - val_loss: 1.8042 - val_accuracy: 0.3207\n",
            "Epoch 8/25\n",
            "1293/1293 [==============================] - 100s 77ms/step - loss: 1.8048 - accuracy: 0.3208 - val_loss: 1.8042 - val_accuracy: 0.3207\n",
            "Epoch 9/25\n",
            "1293/1293 [==============================] - 99s 76ms/step - loss: 1.8047 - accuracy: 0.3208 - val_loss: 1.8045 - val_accuracy: 0.3207\n",
            "Epoch 10/25\n",
            "1293/1293 [==============================] - 99s 76ms/step - loss: 1.8046 - accuracy: 0.3208 - val_loss: 1.8043 - val_accuracy: 0.3207\n",
            "Epoch 11/25\n",
            "1293/1293 [==============================] - 99s 76ms/step - loss: 1.8046 - accuracy: 0.3208 - val_loss: 1.8043 - val_accuracy: 0.3207\n",
            "Epoch 12/25\n",
            "1293/1293 [==============================] - 100s 77ms/step - loss: 1.8045 - accuracy: 0.3208 - val_loss: 1.8043 - val_accuracy: 0.3207\n",
            "Epoch 13/25\n",
            "1293/1293 [==============================] - 99s 76ms/step - loss: 1.8045 - accuracy: 0.3208 - val_loss: 1.8044 - val_accuracy: 0.3207\n",
            "Epoch 14/25\n",
            "1293/1293 [==============================] - 99s 76ms/step - loss: 1.8045 - accuracy: 0.3208 - val_loss: 1.8043 - val_accuracy: 0.3207\n",
            "Epoch 15/25\n",
            "1293/1293 [==============================] - 99s 76ms/step - loss: 1.8044 - accuracy: 0.3208 - val_loss: 1.8043 - val_accuracy: 0.3207\n",
            "Epoch 16/25\n",
            "1293/1293 [==============================] - 99s 76ms/step - loss: 1.8044 - accuracy: 0.3208 - val_loss: 1.8046 - val_accuracy: 0.3207\n",
            "Epoch 17/25\n",
            "1293/1293 [==============================] - 99s 76ms/step - loss: 1.8045 - accuracy: 0.3208 - val_loss: 1.8042 - val_accuracy: 0.3207\n",
            "Epoch 18/25\n",
            "1293/1293 [==============================] - 99s 76ms/step - loss: 1.8045 - accuracy: 0.3208 - val_loss: 1.8042 - val_accuracy: 0.3207\n",
            "Epoch 19/25\n",
            "1293/1293 [==============================] - 100s 77ms/step - loss: 1.8045 - accuracy: 0.3208 - val_loss: 1.8044 - val_accuracy: 0.3207\n",
            "Epoch 20/25\n",
            "1293/1293 [==============================] - 99s 76ms/step - loss: 1.8044 - accuracy: 0.3208 - val_loss: 1.8045 - val_accuracy: 0.3207\n",
            "Epoch 21/25\n",
            "1293/1293 [==============================] - 100s 77ms/step - loss: 1.8044 - accuracy: 0.3208 - val_loss: 1.8041 - val_accuracy: 0.3207\n",
            "Epoch 22/25\n",
            "1293/1293 [==============================] - 99s 76ms/step - loss: 1.8043 - accuracy: 0.3208 - val_loss: 1.8047 - val_accuracy: 0.3207\n",
            "Epoch 23/25\n",
            "1293/1293 [==============================] - 99s 76ms/step - loss: 1.8043 - accuracy: 0.3208 - val_loss: 1.8044 - val_accuracy: 0.3207\n",
            "Epoch 24/25\n",
            "1293/1293 [==============================] - 99s 76ms/step - loss: 1.8044 - accuracy: 0.3208 - val_loss: 1.8043 - val_accuracy: 0.3207\n",
            "Epoch 25/25\n",
            "1293/1293 [==============================] - 99s 76ms/step - loss: 1.8043 - accuracy: 0.3208 - val_loss: 1.8041 - val_accuracy: 0.3207\n"
          ]
        },
        {
          "output_type": "execute_result",
          "data": {
            "text/plain": [
              "<keras.callbacks.History at 0x7f1e8a1b3310>"
            ]
          },
          "metadata": {},
          "execution_count": 80
        }
      ]
    },
    {
      "cell_type": "code",
      "source": [
        "VGGNet.evaluate(x_test, y_test)"
      ],
      "metadata": {
        "id": "tl6mokaNUo4S",
        "colab": {
          "base_uri": "https://localhost:8080/"
        },
        "outputId": "dfb25187-2f85-4663-fed5-f99e1dc42b99"
      },
      "execution_count": 81,
      "outputs": [
        {
          "output_type": "stream",
          "name": "stdout",
          "text": [
            "1478/1478 [==============================] - 18s 12ms/step - loss: 1.8041 - accuracy: 0.3207\n"
          ]
        },
        {
          "output_type": "execute_result",
          "data": {
            "text/plain": [
              "[1.8041409254074097, 0.3207487165927887]"
            ]
          },
          "metadata": {},
          "execution_count": 81
        }
      ]
    },
    {
      "cell_type": "markdown",
      "source": [
        "# **GoogleNet**\n",
        "inception v2"
      ],
      "metadata": {
        "id": "02OIRpNwwV3_"
      }
    },
    {
      "cell_type": "code",
      "source": [
        "from tensorflow.keras.layers import Conv2D, MaxPooling2D, AveragePooling2D, ZeroPadding2D\n",
        "from tensorflow.keras.layers import Concatenate\n",
        "from tensorflow.keras.layers import Input, Flatten, Dense, Dropout, BatchNormalization\n",
        "from tensorflow.keras.models import Sequential, Model"
      ],
      "metadata": {
        "id": "r_XgyTpwwhkv"
      },
      "execution_count": 67,
      "outputs": []
    },
    {
      "cell_type": "code",
      "source": [
        "def inception(x, filters):\n",
        "    # 1x1\n",
        "    path1 = Conv2D(filters=filters[0], kernel_size=(1,1), strides=1, padding='same', activation='relu')(x)\n",
        "\n",
        "    # 1x1->3x3\n",
        "    path2 = Conv2D(filters=filters[1][0], kernel_size=(1,1), strides=1, padding='same', activation='relu')(x)\n",
        "    path2 = Conv2D(filters=filters[1][1], kernel_size=(3,3), strides=1, padding='same', activation='relu')(path2)\n",
        "    \n",
        "    # 1x1->5x5\n",
        "    path3 = Conv2D(filters=filters[2][0], kernel_size=(1,1), strides=1, padding='same', activation='relu')(x)\n",
        "    path3 = Conv2D(filters=filters[2][1], kernel_size=(5,5), strides=1, padding='same', activation='relu')(path3)\n",
        "\n",
        "    # 3x3->1x1\n",
        "    path4 = MaxPooling2D(pool_size=(3,3), strides=1, padding='same')(x)\n",
        "    path4 = Conv2D(filters=filters[3], kernel_size=(1,1), strides=1, padding='same', activation='relu')(path4)\n",
        "\n",
        "    return Concatenate(axis=-1)([path1,path2,path3,path4])\n",
        "\n",
        "\n",
        "def auxiliary(x, name=None):\n",
        "    # change pool_size from 5 to 1\n",
        "    layer = AveragePooling2D(pool_size=(1,1), strides=3, padding='valid')(x)\n",
        "    layer = Conv2D(filters=128, kernel_size=(1,1), strides=1, padding='same', activation='relu')(layer)\n",
        "    layer = Flatten()(layer)\n",
        "    layer = Dense(units=256, activation='relu')(layer)\n",
        "    layer = Dropout(0.4)(layer)\n",
        "    layer = Dense(units=8, activation='softmax', name=name)(layer)\n",
        "    return layer\n",
        "\n",
        "\n",
        "def googlenet():\n",
        "    layer_in = Input(shape=(28,28,1))\n",
        "    \n",
        "    # stage-1\n",
        "    # I change the kernel_size from 7 to 3\n",
        "    layer = Conv2D(filters=64, kernel_size=(3,3), strides=2, padding='same', activation='relu')(layer_in)\n",
        "    layer = MaxPooling2D(pool_size=(3,3), strides=2, padding='same')(layer)\n",
        "    layer = BatchNormalization()(layer)\n",
        "\n",
        "    # stage-2\n",
        "    layer = Conv2D(filters=64, kernel_size=(1,1), strides=1, padding='same', activation='relu')(layer)\n",
        "    layer = Conv2D(filters=192, kernel_size=(3,3), strides=1, padding='same', activation='relu')(layer)\n",
        "    layer = BatchNormalization()(layer)\n",
        "    layer = MaxPooling2D(pool_size=(3,3), strides=2, padding='same')(layer)\n",
        "\n",
        "    # stage-3\n",
        "    layer = inception(layer, [ 64,  (96,128), (16,32), 32]) #3a\n",
        "    layer = inception(layer, [128, (128,192), (32,96), 64]) #3b\n",
        "    layer = MaxPooling2D(pool_size=(3,3), strides=2, padding='same')(layer)\n",
        "    \n",
        "    # stage-4\n",
        "    layer = inception(layer, [192,  (96,208),  (16,48),  64]) #4a\n",
        "    aux1  = auxiliary(layer, name='aux1')\n",
        "    layer = inception(layer, [160, (112,224),  (24,64),  64]) #4b\n",
        "    layer = inception(layer, [128, (128,256),  (24,64),  64]) #4c\n",
        "    layer = inception(layer, [112, (144,288),  (32,64),  64]) #4d\n",
        "    aux2  = auxiliary(layer, name='aux2')\n",
        "    layer = inception(layer, [256, (160,320), (32,128), 128]) #4e\n",
        "    layer = MaxPooling2D(pool_size=(3,3), strides=2, padding='same')(layer)\n",
        "    \n",
        "    # stage-5\n",
        "    # change pool_size from 7 to 1; change 256 to 192， in 5b change 384 to 192 2个\n",
        "    layer = inception(layer, [256, (160,320), (32,128), 128]) #5a\n",
        "    layer = inception(layer, [384, (192,384), (48,128), 128]) #5b\n",
        "    layer = AveragePooling2D(pool_size=(1,1), strides=1, padding='valid')(layer)\n",
        "    \n",
        "    # stage-6\n",
        "    layer = Flatten()(layer)\n",
        "    layer = Dropout(0.4)(layer)\n",
        "    layer = Dense(units=256, activation='linear')(layer)\n",
        "    main = Dense(units=8, activation='softmax', name='main')(layer)\n",
        "    \n",
        "    model = Model(inputs=layer_in, outputs=[main, aux1, aux2])\n",
        "    \n",
        "    return model\n",
        "\n",
        "\n",
        "# train model\n",
        "GoogleNet = googlenet()\n",
        "GoogleNet.summary()"
      ],
      "metadata": {
        "colab": {
          "base_uri": "https://localhost:8080/"
        },
        "id": "14HWqc4KwYCI",
        "outputId": "36b781c7-2161-4236-c239-e7831b6eacfc"
      },
      "execution_count": 68,
      "outputs": [
        {
          "output_type": "stream",
          "name": "stdout",
          "text": [
            "Model: \"model_1\"\n",
            "__________________________________________________________________________________________________\n",
            " Layer (type)                   Output Shape         Param #     Connected to                     \n",
            "==================================================================================================\n",
            " input_2 (InputLayer)           [(None, 28, 28, 1)]  0           []                               \n",
            "                                                                                                  \n",
            " conv2d_99 (Conv2D)             (None, 14, 14, 64)   640         ['input_2[0][0]']                \n",
            "                                                                                                  \n",
            " max_pooling2d_40 (MaxPooling2D  (None, 7, 7, 64)    0           ['conv2d_99[0][0]']              \n",
            " )                                                                                                \n",
            "                                                                                                  \n",
            " batch_normalization_2 (BatchNo  (None, 7, 7, 64)    256         ['max_pooling2d_40[0][0]']       \n",
            " rmalization)                                                                                     \n",
            "                                                                                                  \n",
            " conv2d_100 (Conv2D)            (None, 7, 7, 64)     4160        ['batch_normalization_2[0][0]']  \n",
            "                                                                                                  \n",
            " conv2d_101 (Conv2D)            (None, 7, 7, 192)    110784      ['conv2d_100[0][0]']             \n",
            "                                                                                                  \n",
            " batch_normalization_3 (BatchNo  (None, 7, 7, 192)   768         ['conv2d_101[0][0]']             \n",
            " rmalization)                                                                                     \n",
            "                                                                                                  \n",
            " max_pooling2d_41 (MaxPooling2D  (None, 4, 4, 192)   0           ['batch_normalization_3[0][0]']  \n",
            " )                                                                                                \n",
            "                                                                                                  \n",
            " conv2d_103 (Conv2D)            (None, 4, 4, 96)     18528       ['max_pooling2d_41[0][0]']       \n",
            "                                                                                                  \n",
            " conv2d_105 (Conv2D)            (None, 4, 4, 16)     3088        ['max_pooling2d_41[0][0]']       \n",
            "                                                                                                  \n",
            " max_pooling2d_42 (MaxPooling2D  (None, 4, 4, 192)   0           ['max_pooling2d_41[0][0]']       \n",
            " )                                                                                                \n",
            "                                                                                                  \n",
            " conv2d_102 (Conv2D)            (None, 4, 4, 64)     12352       ['max_pooling2d_41[0][0]']       \n",
            "                                                                                                  \n",
            " conv2d_104 (Conv2D)            (None, 4, 4, 128)    110720      ['conv2d_103[0][0]']             \n",
            "                                                                                                  \n",
            " conv2d_106 (Conv2D)            (None, 4, 4, 32)     12832       ['conv2d_105[0][0]']             \n",
            "                                                                                                  \n",
            " conv2d_107 (Conv2D)            (None, 4, 4, 32)     6176        ['max_pooling2d_42[0][0]']       \n",
            "                                                                                                  \n",
            " concatenate_9 (Concatenate)    (None, 4, 4, 256)    0           ['conv2d_102[0][0]',             \n",
            "                                                                  'conv2d_104[0][0]',             \n",
            "                                                                  'conv2d_106[0][0]',             \n",
            "                                                                  'conv2d_107[0][0]']             \n",
            "                                                                                                  \n",
            " conv2d_109 (Conv2D)            (None, 4, 4, 128)    32896       ['concatenate_9[0][0]']          \n",
            "                                                                                                  \n",
            " conv2d_111 (Conv2D)            (None, 4, 4, 32)     8224        ['concatenate_9[0][0]']          \n",
            "                                                                                                  \n",
            " max_pooling2d_43 (MaxPooling2D  (None, 4, 4, 256)   0           ['concatenate_9[0][0]']          \n",
            " )                                                                                                \n",
            "                                                                                                  \n",
            " conv2d_108 (Conv2D)            (None, 4, 4, 128)    32896       ['concatenate_9[0][0]']          \n",
            "                                                                                                  \n",
            " conv2d_110 (Conv2D)            (None, 4, 4, 192)    221376      ['conv2d_109[0][0]']             \n",
            "                                                                                                  \n",
            " conv2d_112 (Conv2D)            (None, 4, 4, 96)     76896       ['conv2d_111[0][0]']             \n",
            "                                                                                                  \n",
            " conv2d_113 (Conv2D)            (None, 4, 4, 64)     16448       ['max_pooling2d_43[0][0]']       \n",
            "                                                                                                  \n",
            " concatenate_10 (Concatenate)   (None, 4, 4, 480)    0           ['conv2d_108[0][0]',             \n",
            "                                                                  'conv2d_110[0][0]',             \n",
            "                                                                  'conv2d_112[0][0]',             \n",
            "                                                                  'conv2d_113[0][0]']             \n",
            "                                                                                                  \n",
            " max_pooling2d_44 (MaxPooling2D  (None, 2, 2, 480)   0           ['concatenate_10[0][0]']         \n",
            " )                                                                                                \n",
            "                                                                                                  \n",
            " conv2d_115 (Conv2D)            (None, 2, 2, 96)     46176       ['max_pooling2d_44[0][0]']       \n",
            "                                                                                                  \n",
            " conv2d_117 (Conv2D)            (None, 2, 2, 16)     7696        ['max_pooling2d_44[0][0]']       \n",
            "                                                                                                  \n",
            " max_pooling2d_45 (MaxPooling2D  (None, 2, 2, 480)   0           ['max_pooling2d_44[0][0]']       \n",
            " )                                                                                                \n",
            "                                                                                                  \n",
            " conv2d_114 (Conv2D)            (None, 2, 2, 192)    92352       ['max_pooling2d_44[0][0]']       \n",
            "                                                                                                  \n",
            " conv2d_116 (Conv2D)            (None, 2, 2, 208)    179920      ['conv2d_115[0][0]']             \n",
            "                                                                                                  \n",
            " conv2d_118 (Conv2D)            (None, 2, 2, 48)     19248       ['conv2d_117[0][0]']             \n",
            "                                                                                                  \n",
            " conv2d_119 (Conv2D)            (None, 2, 2, 64)     30784       ['max_pooling2d_45[0][0]']       \n",
            "                                                                                                  \n",
            " concatenate_11 (Concatenate)   (None, 2, 2, 512)    0           ['conv2d_114[0][0]',             \n",
            "                                                                  'conv2d_116[0][0]',             \n",
            "                                                                  'conv2d_118[0][0]',             \n",
            "                                                                  'conv2d_119[0][0]']             \n",
            "                                                                                                  \n",
            " conv2d_122 (Conv2D)            (None, 2, 2, 112)    57456       ['concatenate_11[0][0]']         \n",
            "                                                                                                  \n",
            " conv2d_124 (Conv2D)            (None, 2, 2, 24)     12312       ['concatenate_11[0][0]']         \n",
            "                                                                                                  \n",
            " max_pooling2d_46 (MaxPooling2D  (None, 2, 2, 512)   0           ['concatenate_11[0][0]']         \n",
            " )                                                                                                \n",
            "                                                                                                  \n",
            " conv2d_121 (Conv2D)            (None, 2, 2, 160)    82080       ['concatenate_11[0][0]']         \n",
            "                                                                                                  \n",
            " conv2d_123 (Conv2D)            (None, 2, 2, 224)    226016      ['conv2d_122[0][0]']             \n",
            "                                                                                                  \n",
            " conv2d_125 (Conv2D)            (None, 2, 2, 64)     38464       ['conv2d_124[0][0]']             \n",
            "                                                                                                  \n",
            " conv2d_126 (Conv2D)            (None, 2, 2, 64)     32832       ['max_pooling2d_46[0][0]']       \n",
            "                                                                                                  \n",
            " concatenate_12 (Concatenate)   (None, 2, 2, 512)    0           ['conv2d_121[0][0]',             \n",
            "                                                                  'conv2d_123[0][0]',             \n",
            "                                                                  'conv2d_125[0][0]',             \n",
            "                                                                  'conv2d_126[0][0]']             \n",
            "                                                                                                  \n",
            " conv2d_128 (Conv2D)            (None, 2, 2, 128)    65664       ['concatenate_12[0][0]']         \n",
            "                                                                                                  \n",
            " conv2d_130 (Conv2D)            (None, 2, 2, 24)     12312       ['concatenate_12[0][0]']         \n",
            "                                                                                                  \n",
            " max_pooling2d_47 (MaxPooling2D  (None, 2, 2, 512)   0           ['concatenate_12[0][0]']         \n",
            " )                                                                                                \n",
            "                                                                                                  \n",
            " conv2d_127 (Conv2D)            (None, 2, 2, 128)    65664       ['concatenate_12[0][0]']         \n",
            "                                                                                                  \n",
            " conv2d_129 (Conv2D)            (None, 2, 2, 256)    295168      ['conv2d_128[0][0]']             \n",
            "                                                                                                  \n",
            " conv2d_131 (Conv2D)            (None, 2, 2, 64)     38464       ['conv2d_130[0][0]']             \n",
            "                                                                                                  \n",
            " conv2d_132 (Conv2D)            (None, 2, 2, 64)     32832       ['max_pooling2d_47[0][0]']       \n",
            "                                                                                                  \n",
            " concatenate_13 (Concatenate)   (None, 2, 2, 512)    0           ['conv2d_127[0][0]',             \n",
            "                                                                  'conv2d_129[0][0]',             \n",
            "                                                                  'conv2d_131[0][0]',             \n",
            "                                                                  'conv2d_132[0][0]']             \n",
            "                                                                                                  \n",
            " conv2d_134 (Conv2D)            (None, 2, 2, 144)    73872       ['concatenate_13[0][0]']         \n",
            "                                                                                                  \n",
            " conv2d_136 (Conv2D)            (None, 2, 2, 32)     16416       ['concatenate_13[0][0]']         \n",
            "                                                                                                  \n",
            " max_pooling2d_48 (MaxPooling2D  (None, 2, 2, 512)   0           ['concatenate_13[0][0]']         \n",
            " )                                                                                                \n",
            "                                                                                                  \n",
            " conv2d_133 (Conv2D)            (None, 2, 2, 112)    57456       ['concatenate_13[0][0]']         \n",
            "                                                                                                  \n",
            " conv2d_135 (Conv2D)            (None, 2, 2, 288)    373536      ['conv2d_134[0][0]']             \n",
            "                                                                                                  \n",
            " conv2d_137 (Conv2D)            (None, 2, 2, 64)     51264       ['conv2d_136[0][0]']             \n",
            "                                                                                                  \n",
            " conv2d_138 (Conv2D)            (None, 2, 2, 64)     32832       ['max_pooling2d_48[0][0]']       \n",
            "                                                                                                  \n",
            " concatenate_14 (Concatenate)   (None, 2, 2, 528)    0           ['conv2d_133[0][0]',             \n",
            "                                                                  'conv2d_135[0][0]',             \n",
            "                                                                  'conv2d_137[0][0]',             \n",
            "                                                                  'conv2d_138[0][0]']             \n",
            "                                                                                                  \n",
            " conv2d_141 (Conv2D)            (None, 2, 2, 160)    84640       ['concatenate_14[0][0]']         \n",
            "                                                                                                  \n",
            " conv2d_143 (Conv2D)            (None, 2, 2, 32)     16928       ['concatenate_14[0][0]']         \n",
            "                                                                                                  \n",
            " max_pooling2d_49 (MaxPooling2D  (None, 2, 2, 528)   0           ['concatenate_14[0][0]']         \n",
            " )                                                                                                \n",
            "                                                                                                  \n",
            " conv2d_140 (Conv2D)            (None, 2, 2, 256)    135424      ['concatenate_14[0][0]']         \n",
            "                                                                                                  \n",
            " conv2d_142 (Conv2D)            (None, 2, 2, 320)    461120      ['conv2d_141[0][0]']             \n",
            "                                                                                                  \n",
            " conv2d_144 (Conv2D)            (None, 2, 2, 128)    102528      ['conv2d_143[0][0]']             \n",
            "                                                                                                  \n",
            " conv2d_145 (Conv2D)            (None, 2, 2, 128)    67712       ['max_pooling2d_49[0][0]']       \n",
            "                                                                                                  \n",
            " concatenate_15 (Concatenate)   (None, 2, 2, 832)    0           ['conv2d_140[0][0]',             \n",
            "                                                                  'conv2d_142[0][0]',             \n",
            "                                                                  'conv2d_144[0][0]',             \n",
            "                                                                  'conv2d_145[0][0]']             \n",
            "                                                                                                  \n",
            " max_pooling2d_50 (MaxPooling2D  (None, 1, 1, 832)   0           ['concatenate_15[0][0]']         \n",
            " )                                                                                                \n",
            "                                                                                                  \n",
            " conv2d_147 (Conv2D)            (None, 1, 1, 160)    133280      ['max_pooling2d_50[0][0]']       \n",
            "                                                                                                  \n",
            " conv2d_149 (Conv2D)            (None, 1, 1, 32)     26656       ['max_pooling2d_50[0][0]']       \n",
            "                                                                                                  \n",
            " max_pooling2d_51 (MaxPooling2D  (None, 1, 1, 832)   0           ['max_pooling2d_50[0][0]']       \n",
            " )                                                                                                \n",
            "                                                                                                  \n",
            " conv2d_146 (Conv2D)            (None, 1, 1, 256)    213248      ['max_pooling2d_50[0][0]']       \n",
            "                                                                                                  \n",
            " conv2d_148 (Conv2D)            (None, 1, 1, 320)    461120      ['conv2d_147[0][0]']             \n",
            "                                                                                                  \n",
            " conv2d_150 (Conv2D)            (None, 1, 1, 128)    102528      ['conv2d_149[0][0]']             \n",
            "                                                                                                  \n",
            " conv2d_151 (Conv2D)            (None, 1, 1, 128)    106624      ['max_pooling2d_51[0][0]']       \n",
            "                                                                                                  \n",
            " concatenate_16 (Concatenate)   (None, 1, 1, 832)    0           ['conv2d_146[0][0]',             \n",
            "                                                                  'conv2d_148[0][0]',             \n",
            "                                                                  'conv2d_150[0][0]',             \n",
            "                                                                  'conv2d_151[0][0]']             \n",
            "                                                                                                  \n",
            " conv2d_153 (Conv2D)            (None, 1, 1, 192)    159936      ['concatenate_16[0][0]']         \n",
            "                                                                                                  \n",
            " conv2d_155 (Conv2D)            (None, 1, 1, 48)     39984       ['concatenate_16[0][0]']         \n",
            "                                                                                                  \n",
            " max_pooling2d_52 (MaxPooling2D  (None, 1, 1, 832)   0           ['concatenate_16[0][0]']         \n",
            " )                                                                                                \n",
            "                                                                                                  \n",
            " conv2d_152 (Conv2D)            (None, 1, 1, 384)    319872      ['concatenate_16[0][0]']         \n",
            "                                                                                                  \n",
            " conv2d_154 (Conv2D)            (None, 1, 1, 384)    663936      ['conv2d_153[0][0]']             \n",
            "                                                                                                  \n",
            " conv2d_156 (Conv2D)            (None, 1, 1, 128)    153728      ['conv2d_155[0][0]']             \n",
            "                                                                                                  \n",
            " conv2d_157 (Conv2D)            (None, 1, 1, 128)    106624      ['max_pooling2d_52[0][0]']       \n",
            "                                                                                                  \n",
            " concatenate_17 (Concatenate)   (None, 1, 1, 1024)   0           ['conv2d_152[0][0]',             \n",
            "                                                                  'conv2d_154[0][0]',             \n",
            "                                                                  'conv2d_156[0][0]',             \n",
            "                                                                  'conv2d_157[0][0]']             \n",
            "                                                                                                  \n",
            " average_pooling2d_3 (AveragePo  (None, 1, 1, 512)   0           ['concatenate_11[0][0]']         \n",
            " oling2D)                                                                                         \n",
            "                                                                                                  \n",
            " average_pooling2d_4 (AveragePo  (None, 1, 1, 528)   0           ['concatenate_14[0][0]']         \n",
            " oling2D)                                                                                         \n",
            "                                                                                                  \n",
            " average_pooling2d_5 (AveragePo  (None, 1, 1, 1024)  0           ['concatenate_17[0][0]']         \n",
            " oling2D)                                                                                         \n",
            "                                                                                                  \n",
            " conv2d_120 (Conv2D)            (None, 1, 1, 128)    65664       ['average_pooling2d_3[0][0]']    \n",
            "                                                                                                  \n",
            " conv2d_139 (Conv2D)            (None, 1, 1, 128)    67712       ['average_pooling2d_4[0][0]']    \n",
            "                                                                                                  \n",
            " flatten_14 (Flatten)           (None, 1024)         0           ['average_pooling2d_5[0][0]']    \n",
            "                                                                                                  \n",
            " flatten_12 (Flatten)           (None, 128)          0           ['conv2d_120[0][0]']             \n",
            "                                                                                                  \n",
            " flatten_13 (Flatten)           (None, 128)          0           ['conv2d_139[0][0]']             \n",
            "                                                                                                  \n",
            " dropout_14 (Dropout)           (None, 1024)         0           ['flatten_14[0][0]']             \n",
            "                                                                                                  \n",
            " dense_21 (Dense)               (None, 256)          33024       ['flatten_12[0][0]']             \n",
            "                                                                                                  \n",
            " dense_22 (Dense)               (None, 256)          33024       ['flatten_13[0][0]']             \n",
            "                                                                                                  \n",
            " dense_23 (Dense)               (None, 256)          262400      ['dropout_14[0][0]']             \n",
            "                                                                                                  \n",
            " dropout_12 (Dropout)           (None, 256)          0           ['dense_21[0][0]']               \n",
            "                                                                                                  \n",
            " dropout_13 (Dropout)           (None, 256)          0           ['dense_22[0][0]']               \n",
            "                                                                                                  \n",
            " main (Dense)                   (None, 8)            2056        ['dense_23[0][0]']               \n",
            "                                                                                                  \n",
            " aux1 (Dense)                   (None, 8)            2056        ['dropout_12[0][0]']             \n",
            "                                                                                                  \n",
            " aux2 (Dense)                   (None, 8)            2056        ['dropout_13[0][0]']             \n",
            "                                                                                                  \n",
            "==================================================================================================\n",
            "Total params: 6,433,736\n",
            "Trainable params: 6,433,224\n",
            "Non-trainable params: 512\n",
            "__________________________________________________________________________________________________\n"
          ]
        }
      ]
    },
    {
      "cell_type": "code",
      "source": [
        "GoogleNet.compile(loss='categorical_crossentropy',\n",
        "       optimizer='Adam',\n",
        "       metrics=['accuracy'])"
      ],
      "metadata": {
        "id": "UKAmmJK14IDU"
      },
      "execution_count": 69,
      "outputs": []
    },
    {
      "cell_type": "code",
      "source": [
        "GoogleNet.fit(x_train, y_train, batch_size = 128, epochs = 25, verbose =1, validation_data=(x_val, y_val))"
      ],
      "metadata": {
        "id": "tJdjnlvN4PcB",
        "colab": {
          "base_uri": "https://localhost:8080/"
        },
        "outputId": "9c7ab3dd-ced5-4ff8-fb30-822cc0d43701"
      },
      "execution_count": 70,
      "outputs": [
        {
          "output_type": "stream",
          "name": "stdout",
          "text": [
            "Epoch 1/25\n",
            "1293/1293 [==============================] - 56s 39ms/step - loss: 3.6595 - main_loss: 1.2385 - aux1_loss: 1.2001 - aux2_loss: 1.2209 - main_accuracy: 0.5388 - aux1_accuracy: 0.5544 - aux2_accuracy: 0.5469 - val_loss: 4.1265 - val_main_loss: 1.3928 - val_aux1_loss: 1.3597 - val_aux2_loss: 1.3740 - val_main_accuracy: 0.4838 - val_aux1_accuracy: 0.4886 - val_aux2_accuracy: 0.4887\n",
            "Epoch 2/25\n",
            "1293/1293 [==============================] - 49s 38ms/step - loss: 3.2046 - main_loss: 1.0840 - aux1_loss: 1.0526 - aux2_loss: 1.0680 - main_accuracy: 0.6087 - aux1_accuracy: 0.6179 - aux2_accuracy: 0.6138 - val_loss: 3.3122 - val_main_loss: 1.1196 - val_aux1_loss: 1.0929 - val_aux2_loss: 1.0996 - val_main_accuracy: 0.5821 - val_aux1_accuracy: 0.5901 - val_aux2_accuracy: 0.5885\n",
            "Epoch 3/25\n",
            "1293/1293 [==============================] - 49s 38ms/step - loss: 3.0128 - main_loss: 1.0178 - aux1_loss: 0.9913 - aux2_loss: 1.0037 - main_accuracy: 0.6342 - aux1_accuracy: 0.6405 - aux2_accuracy: 0.6386 - val_loss: 3.4923 - val_main_loss: 1.1656 - val_aux1_loss: 1.1610 - val_aux2_loss: 1.1656 - val_main_accuracy: 0.5843 - val_aux1_accuracy: 0.5763 - val_aux2_accuracy: 0.5819\n",
            "Epoch 4/25\n",
            "1293/1293 [==============================] - 50s 38ms/step - loss: 2.8762 - main_loss: 0.9696 - aux1_loss: 0.9488 - aux2_loss: 0.9578 - main_accuracy: 0.6514 - aux1_accuracy: 0.6569 - aux2_accuracy: 0.6561 - val_loss: 3.1621 - val_main_loss: 1.0617 - val_aux1_loss: 1.0458 - val_aux2_loss: 1.0546 - val_main_accuracy: 0.6185 - val_aux1_accuracy: 0.6199 - val_aux2_accuracy: 0.6187\n",
            "Epoch 5/25\n",
            "1293/1293 [==============================] - 50s 39ms/step - loss: 2.7681 - main_loss: 0.9329 - aux1_loss: 0.9133 - aux2_loss: 0.9219 - main_accuracy: 0.6643 - aux1_accuracy: 0.6702 - aux2_accuracy: 0.6686 - val_loss: 3.7467 - val_main_loss: 1.2817 - val_aux1_loss: 1.2185 - val_aux2_loss: 1.2466 - val_main_accuracy: 0.5517 - val_aux1_accuracy: 0.5659 - val_aux2_accuracy: 0.5590\n",
            "Epoch 6/25\n",
            "1293/1293 [==============================] - 49s 38ms/step - loss: 2.6609 - main_loss: 0.8965 - aux1_loss: 0.8784 - aux2_loss: 0.8859 - main_accuracy: 0.6782 - aux1_accuracy: 0.6834 - aux2_accuracy: 0.6826 - val_loss: 3.1560 - val_main_loss: 1.0573 - val_aux1_loss: 1.0507 - val_aux2_loss: 1.0480 - val_main_accuracy: 0.6238 - val_aux1_accuracy: 0.6268 - val_aux2_accuracy: 0.6247\n",
            "Epoch 7/25\n",
            "1293/1293 [==============================] - 49s 38ms/step - loss: 2.5526 - main_loss: 0.8591 - aux1_loss: 0.8432 - aux2_loss: 0.8503 - main_accuracy: 0.6916 - aux1_accuracy: 0.6960 - aux2_accuracy: 0.6949 - val_loss: 3.5514 - val_main_loss: 1.1872 - val_aux1_loss: 1.1789 - val_aux2_loss: 1.1853 - val_main_accuracy: 0.5752 - val_aux1_accuracy: 0.5783 - val_aux2_accuracy: 0.5753\n",
            "Epoch 8/25\n",
            "1293/1293 [==============================] - 50s 38ms/step - loss: 2.4567 - main_loss: 0.8275 - aux1_loss: 0.8115 - aux2_loss: 0.8176 - main_accuracy: 0.7038 - aux1_accuracy: 0.7075 - aux2_accuracy: 0.7074 - val_loss: 3.0853 - val_main_loss: 1.0329 - val_aux1_loss: 1.0266 - val_aux2_loss: 1.0257 - val_main_accuracy: 0.6288 - val_aux1_accuracy: 0.6319 - val_aux2_accuracy: 0.6315\n",
            "Epoch 9/25\n",
            "1293/1293 [==============================] - 50s 38ms/step - loss: 2.3435 - main_loss: 0.7884 - aux1_loss: 0.7753 - aux2_loss: 0.7798 - main_accuracy: 0.7170 - aux1_accuracy: 0.7210 - aux2_accuracy: 0.7207 - val_loss: 3.0426 - val_main_loss: 1.0198 - val_aux1_loss: 1.0059 - val_aux2_loss: 1.0168 - val_main_accuracy: 0.6418 - val_aux1_accuracy: 0.6453 - val_aux2_accuracy: 0.6425\n",
            "Epoch 10/25\n",
            "1293/1293 [==============================] - 50s 39ms/step - loss: 2.2403 - main_loss: 0.7536 - aux1_loss: 0.7415 - aux2_loss: 0.7452 - main_accuracy: 0.7306 - aux1_accuracy: 0.7334 - aux2_accuracy: 0.7337 - val_loss: 3.2043 - val_main_loss: 1.0801 - val_aux1_loss: 1.0579 - val_aux2_loss: 1.0662 - val_main_accuracy: 0.6359 - val_aux1_accuracy: 0.6377 - val_aux2_accuracy: 0.6371\n",
            "Epoch 11/25\n",
            "1293/1293 [==============================] - 50s 38ms/step - loss: 2.1243 - main_loss: 0.7143 - aux1_loss: 0.7036 - aux2_loss: 0.7064 - main_accuracy: 0.7454 - aux1_accuracy: 0.7479 - aux2_accuracy: 0.7477 - val_loss: 3.2079 - val_main_loss: 1.0735 - val_aux1_loss: 1.0654 - val_aux2_loss: 1.0691 - val_main_accuracy: 0.6220 - val_aux1_accuracy: 0.6238 - val_aux2_accuracy: 0.6246\n",
            "Epoch 12/25\n",
            "1293/1293 [==============================] - 50s 39ms/step - loss: 2.0105 - main_loss: 0.6755 - aux1_loss: 0.6667 - aux2_loss: 0.6682 - main_accuracy: 0.7595 - aux1_accuracy: 0.7616 - aux2_accuracy: 0.7618 - val_loss: 3.3838 - val_main_loss: 1.1329 - val_aux1_loss: 1.1267 - val_aux2_loss: 1.1242 - val_main_accuracy: 0.6181 - val_aux1_accuracy: 0.6227 - val_aux2_accuracy: 0.6204\n",
            "Epoch 13/25\n",
            "1293/1293 [==============================] - 50s 38ms/step - loss: 1.9019 - main_loss: 0.6393 - aux1_loss: 0.6307 - aux2_loss: 0.6320 - main_accuracy: 0.7725 - aux1_accuracy: 0.7750 - aux2_accuracy: 0.7748 - val_loss: 3.5541 - val_main_loss: 1.1810 - val_aux1_loss: 1.1907 - val_aux2_loss: 1.1825 - val_main_accuracy: 0.6175 - val_aux1_accuracy: 0.6176 - val_aux2_accuracy: 0.6184\n",
            "Epoch 14/25\n",
            "1293/1293 [==============================] - 50s 38ms/step - loss: 1.8029 - main_loss: 0.6060 - aux1_loss: 0.5976 - aux2_loss: 0.5993 - main_accuracy: 0.7856 - aux1_accuracy: 0.7874 - aux2_accuracy: 0.7874 - val_loss: 3.5128 - val_main_loss: 1.1618 - val_aux1_loss: 1.1798 - val_aux2_loss: 1.1712 - val_main_accuracy: 0.6297 - val_aux1_accuracy: 0.6310 - val_aux2_accuracy: 0.6310\n",
            "Epoch 15/25\n",
            "1293/1293 [==============================] - 50s 38ms/step - loss: 1.7007 - main_loss: 0.5715 - aux1_loss: 0.5645 - aux2_loss: 0.5646 - main_accuracy: 0.7971 - aux1_accuracy: 0.7986 - aux2_accuracy: 0.7993 - val_loss: 3.8264 - val_main_loss: 1.2484 - val_aux1_loss: 1.3024 - val_aux2_loss: 1.2756 - val_main_accuracy: 0.6049 - val_aux1_accuracy: 0.6070 - val_aux2_accuracy: 0.6087\n",
            "Epoch 16/25\n",
            "1293/1293 [==============================] - 50s 38ms/step - loss: 1.6006 - main_loss: 0.5376 - aux1_loss: 0.5318 - aux2_loss: 0.5311 - main_accuracy: 0.8097 - aux1_accuracy: 0.8108 - aux2_accuracy: 0.8117 - val_loss: 3.7923 - val_main_loss: 1.2480 - val_aux1_loss: 1.2792 - val_aux2_loss: 1.2651 - val_main_accuracy: 0.6168 - val_aux1_accuracy: 0.6191 - val_aux2_accuracy: 0.6173\n",
            "Epoch 17/25\n",
            "1293/1293 [==============================] - 50s 39ms/step - loss: 1.5067 - main_loss: 0.5066 - aux1_loss: 0.5000 - aux2_loss: 0.5002 - main_accuracy: 0.8210 - aux1_accuracy: 0.8223 - aux2_accuracy: 0.8229 - val_loss: 4.2891 - val_main_loss: 1.4102 - val_aux1_loss: 1.4435 - val_aux2_loss: 1.4354 - val_main_accuracy: 0.5799 - val_aux1_accuracy: 0.5821 - val_aux2_accuracy: 0.5826\n",
            "Epoch 18/25\n",
            "1293/1293 [==============================] - 51s 39ms/step - loss: 1.4274 - main_loss: 0.4799 - aux1_loss: 0.4734 - aux2_loss: 0.4741 - main_accuracy: 0.8310 - aux1_accuracy: 0.8324 - aux2_accuracy: 0.8331 - val_loss: 4.1055 - val_main_loss: 1.3471 - val_aux1_loss: 1.3915 - val_aux2_loss: 1.3670 - val_main_accuracy: 0.6128 - val_aux1_accuracy: 0.6099 - val_aux2_accuracy: 0.6112\n",
            "Epoch 19/25\n",
            "1293/1293 [==============================] - 50s 39ms/step - loss: 1.3420 - main_loss: 0.4507 - aux1_loss: 0.4465 - aux2_loss: 0.4448 - main_accuracy: 0.8411 - aux1_accuracy: 0.8421 - aux2_accuracy: 0.8428 - val_loss: 4.3684 - val_main_loss: 1.4305 - val_aux1_loss: 1.4791 - val_aux2_loss: 1.4589 - val_main_accuracy: 0.6173 - val_aux1_accuracy: 0.6173 - val_aux2_accuracy: 0.6184\n",
            "Epoch 20/25\n",
            "1293/1293 [==============================] - 50s 38ms/step - loss: 1.2753 - main_loss: 0.4281 - aux1_loss: 0.4244 - aux2_loss: 0.4228 - main_accuracy: 0.8493 - aux1_accuracy: 0.8494 - aux2_accuracy: 0.8516 - val_loss: 4.3157 - val_main_loss: 1.4149 - val_aux1_loss: 1.4667 - val_aux2_loss: 1.4341 - val_main_accuracy: 0.6090 - val_aux1_accuracy: 0.6078 - val_aux2_accuracy: 0.6081\n",
            "Epoch 21/25\n",
            "1293/1293 [==============================] - 50s 39ms/step - loss: 1.2041 - main_loss: 0.4045 - aux1_loss: 0.4008 - aux2_loss: 0.3987 - main_accuracy: 0.8578 - aux1_accuracy: 0.8584 - aux2_accuracy: 0.8598 - val_loss: 4.8670 - val_main_loss: 1.6293 - val_aux1_loss: 1.6083 - val_aux2_loss: 1.6294 - val_main_accuracy: 0.6093 - val_aux1_accuracy: 0.6124 - val_aux2_accuracy: 0.6099\n",
            "Epoch 22/25\n",
            "1293/1293 [==============================] - 50s 38ms/step - loss: 1.1495 - main_loss: 0.3860 - aux1_loss: 0.3828 - aux2_loss: 0.3807 - main_accuracy: 0.8657 - aux1_accuracy: 0.8662 - aux2_accuracy: 0.8674 - val_loss: 4.4431 - val_main_loss: 1.4377 - val_aux1_loss: 1.5189 - val_aux2_loss: 1.4865 - val_main_accuracy: 0.6081 - val_aux1_accuracy: 0.6068 - val_aux2_accuracy: 0.6075\n",
            "Epoch 23/25\n",
            "1293/1293 [==============================] - 51s 39ms/step - loss: 1.0842 - main_loss: 0.3634 - aux1_loss: 0.3623 - aux2_loss: 0.3585 - main_accuracy: 0.8728 - aux1_accuracy: 0.8732 - aux2_accuracy: 0.8744 - val_loss: 4.9119 - val_main_loss: 1.6185 - val_aux1_loss: 1.6619 - val_aux2_loss: 1.6315 - val_main_accuracy: 0.6080 - val_aux1_accuracy: 0.6089 - val_aux2_accuracy: 0.6076\n",
            "Epoch 24/25\n",
            "1293/1293 [==============================] - 50s 39ms/step - loss: 1.0269 - main_loss: 0.3446 - aux1_loss: 0.3436 - aux2_loss: 0.3388 - main_accuracy: 0.8794 - aux1_accuracy: 0.8803 - aux2_accuracy: 0.8814 - val_loss: 4.8790 - val_main_loss: 1.6014 - val_aux1_loss: 1.6508 - val_aux2_loss: 1.6268 - val_main_accuracy: 0.6068 - val_aux1_accuracy: 0.6070 - val_aux2_accuracy: 0.6070\n",
            "Epoch 25/25\n",
            "1293/1293 [==============================] - 50s 38ms/step - loss: 0.9817 - main_loss: 0.3299 - aux1_loss: 0.3275 - aux2_loss: 0.3243 - main_accuracy: 0.8852 - aux1_accuracy: 0.8856 - aux2_accuracy: 0.8873 - val_loss: 5.1681 - val_main_loss: 1.6757 - val_aux1_loss: 1.7941 - val_aux2_loss: 1.6982 - val_main_accuracy: 0.6140 - val_aux1_accuracy: 0.6156 - val_aux2_accuracy: 0.6149\n"
          ]
        },
        {
          "output_type": "execute_result",
          "data": {
            "text/plain": [
              "<keras.callbacks.History at 0x7f1e8ae54cd0>"
            ]
          },
          "metadata": {},
          "execution_count": 70
        }
      ]
    },
    {
      "cell_type": "code",
      "source": [
        "import keras\n",
        "print(GoogleNet.history.history.keys())"
      ],
      "metadata": {
        "colab": {
          "base_uri": "https://localhost:8080/"
        },
        "id": "ujVoPQKdihzE",
        "outputId": "70f50722-e8d5-4763-d49a-b5b41053fcc4"
      },
      "execution_count": 71,
      "outputs": [
        {
          "output_type": "stream",
          "name": "stdout",
          "text": [
            "dict_keys(['loss', 'main_loss', 'aux1_loss', 'aux2_loss', 'main_accuracy', 'aux1_accuracy', 'aux2_accuracy', 'val_loss', 'val_main_loss', 'val_aux1_loss', 'val_aux2_loss', 'val_main_accuracy', 'val_aux1_accuracy', 'val_aux2_accuracy'])\n"
          ]
        }
      ]
    },
    {
      "cell_type": "code",
      "source": [
        "# model accuracy\n",
        "plt.plot(GoogleNet.history.history['main_accuracy'])\n",
        "plt.plot(GoogleNet.history.history['val_main_accuracy'])\n",
        "plt.title('model accuracy')\n",
        "plt.ylabel('accuracy')\n",
        "plt.xlabel('epoch')\n",
        "plt.legend(['train', 'val'],loc = 'upper left')\n",
        "plt.show()"
      ],
      "metadata": {
        "colab": {
          "base_uri": "https://localhost:8080/",
          "height": 295
        },
        "id": "voi9W4ucime1",
        "outputId": "dbe00489-2bec-4e62-ad12-fc85b3129dbb"
      },
      "execution_count": 72,
      "outputs": [
        {
          "output_type": "display_data",
          "data": {
            "text/plain": [
              "<Figure size 432x288 with 1 Axes>"
            ],
            "image/png": "[encoded data removed]"
          },
          "metadata": {
            "needs_background": "light"
          }
        }
      ]
    },
    {
      "cell_type": "code",
      "source": [
        "# model loss\n",
        "plt.plot(GoogleNet.history.history['main_loss'])\n",
        "plt.plot(GoogleNet.history.history['val_aux1_loss'])\n",
        "plt.title('model loss')\n",
        "plt.ylabel('loss')\n",
        "plt.xlabel('epoch')\n",
        "plt.legend(['train', 'val'],loc = 'upper left')\n",
        "plt.show()"
      ],
      "metadata": {
        "colab": {
          "base_uri": "https://localhost:8080/",
          "height": 295
        },
        "id": "Fi2SjWz1ivRn",
        "outputId": "733876e6-d8ff-4545-c749-a2b9bae46cba"
      },
      "execution_count": 73,
      "outputs": [
        {
          "output_type": "display_data",
          "data": {
            "text/plain": [
              "<Figure size 432x288 with 1 Axes>"
            ],
            "image/png": "[encoded data removed]"
          },
          "metadata": {
            "needs_background": "light"
          }
        }
      ]
    },
    {
      "cell_type": "code",
      "source": [
        "GoogleNet.evaluate(x_test, y_test)"
      ],
      "metadata": {
        "id": "3Kye5rAGFsC5",
        "colab": {
          "base_uri": "https://localhost:8080/"
        },
        "outputId": "3a617ebb-f4e0-49ed-97e9-e182be337911"
      },
      "execution_count": 74,
      "outputs": [
        {
          "output_type": "stream",
          "name": "stdout",
          "text": [
            "1478/1478 [==============================] - 18s 12ms/step - loss: 5.1309 - main_loss: 1.6635 - aux1_loss: 1.7828 - aux2_loss: 1.6846 - main_accuracy: 0.6157 - aux1_accuracy: 0.6168 - aux2_accuracy: 0.6156\n"
          ]
        },
        {
          "output_type": "execute_result",
          "data": {
            "text/plain": [
              "[5.130940914154053,\n",
              " 1.663480520248413,\n",
              " 1.782835602760315,\n",
              " 1.6846272945404053,\n",
              " 0.6156514286994934,\n",
              " 0.61683589220047,\n",
              " 0.6156302690505981]"
            ]
          },
          "metadata": {},
          "execution_count": 74
        }
      ]
    },
    {
      "cell_type": "code",
      "source": [
        "Googlenet_score = GoogleNet.evaluate(x_test, y_test)"
      ],
      "metadata": {
        "id": "E4b0G8KSGtjg",
        "colab": {
          "base_uri": "https://localhost:8080/"
        },
        "outputId": "296900bc-aeee-43b2-8f7c-c2ecd356edfc"
      },
      "execution_count": 75,
      "outputs": [
        {
          "output_type": "stream",
          "name": "stdout",
          "text": [
            "1478/1478 [==============================] - 17s 11ms/step - loss: 5.1309 - main_loss: 1.6635 - aux1_loss: 1.7828 - aux2_loss: 1.6846 - main_accuracy: 0.6157 - aux1_accuracy: 0.6168 - aux2_accuracy: 0.6156\n"
          ]
        }
      ]
    },
    {
      "cell_type": "code",
      "source": [
        "print('Test loss:', Googlenet_score[0]) \n",
        "print('Test accuracy:', Googlenet_score[4])"
      ],
      "metadata": {
        "id": "0ZSliLVhF1mR",
        "colab": {
          "base_uri": "https://localhost:8080/"
        },
        "outputId": "caf40139-a5cb-4901-92e5-08bec8d84828"
      },
      "execution_count": 76,
      "outputs": [
        {
          "output_type": "stream",
          "name": "stdout",
          "text": [
            "Test loss: 5.130940914154053\n",
            "Test accuracy: 0.6156514286994934\n"
          ]
        }
      ]
    }
  ]
}